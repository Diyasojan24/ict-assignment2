{
  "nbformat": 4,
  "nbformat_minor": 0,
  "metadata": {
    "colab": {
      "provenance": []
    },
    "kernelspec": {
      "name": "python3",
      "display_name": "Python 3"
    },
    "language_info": {
      "name": "python"
    }
  },
  "cells": [
    {
      "cell_type": "code",
      "execution_count": 56,
      "metadata": {
        "colab": {
          "base_uri": "https://localhost:8080/"
        },
        "id": "2l6q4z3u-2yz",
        "outputId": "f1ae73ad-1e9b-4475-c4a7-a73cd79e7e47"
      },
      "outputs": [
        {
          "output_type": "stream",
          "name": "stdout",
          "text": [
            "found a vowel: i\n",
            "found a vowel: a\n",
            "Total number of vowels: 2\n"
          ]
        }
      ],
      "source": [
        "p=['a','e','i','o','u']\n",
        "input_string = ['d','i','y','a']\n",
        "\n",
        "def check_vowel(input_string):\n",
        " vowel_count = 0\n",
        " for char in input_string:\n",
        "   if char in p:\n",
        "    vowel_count += 1\n",
        "    print(f\"found a vowel: {char}\")\n",
        " return vowel_count\n",
        "vowel_count = check_vowel(input_string)\n",
        "print(f\"Total number of vowels: {vowel_count}\")"
      ]
    },
    {
      "cell_type": "markdown",
      "source": [
        "\n",
        "1.Write a function to compute number of vowels in a string given as input"
      ],
      "metadata": {
        "id": "KDLwVZuSAfUx"
      }
    },
    {
      "cell_type": "code",
      "source": [
        "def is_prime(num):\n",
        "    if num < 2:\n",
        "        print(f\"{num} is not prime\")\n",
        "        return False\n",
        "    flag = True\n",
        "    for i in range(2, num):\n",
        "        if num % i == 0:\n",
        "            flag = False\n",
        "            break\n",
        "    if flag:\n",
        "        print(f\"{num} is prime\")\n",
        "        return True\n",
        "    else:\n",
        "        print(f\"{num} is not prime\")\n",
        "        return False\n",
        "try:\n",
        "    num = int(input(\"Enter a number: \"))\n",
        "    is_prime(num)\n",
        "except ValueError:\n",
        "    print(\"Please enter a valid number\")"
      ],
      "metadata": {
        "colab": {
          "base_uri": "https://localhost:8080/"
        },
        "id": "HtC4Jw6fN_QK",
        "outputId": "51dcd805-03fb-4056-8c21-f79245411d2f"
      },
      "execution_count": 39,
      "outputs": [
        {
          "output_type": "stream",
          "name": "stdout",
          "text": [
            "Enter a number: 6\n",
            "6 is not prime\n"
          ]
        }
      ]
    },
    {
      "cell_type": "markdown",
      "source": [
        "\n",
        "2.Write a function that checks whether a number is prime."
      ],
      "metadata": {
        "id": "-viMTdoVOMpS"
      }
    },
    {
      "cell_type": "code",
      "source": [
        "def max_number(num1,num2):\n",
        "  if num1>num2:\n",
        "    return num1\n",
        "  else:\n",
        "    return num2\n",
        "\n",
        "\n",
        "num1=int(input(\"enter a number:\"))\n",
        "num2=int(input(\"enter a number:\"))\n",
        "maximum=max_number(num1,num2)\n",
        "print(f\"the maximum of {num1} and {num2} is: {maximum}\")\n"
      ],
      "metadata": {
        "colab": {
          "base_uri": "https://localhost:8080/"
        },
        "id": "y_u3yl1dOW7B",
        "outputId": "4e24e81e-2249-4db0-c686-64ca1b9c9d70"
      },
      "execution_count": 45,
      "outputs": [
        {
          "output_type": "stream",
          "name": "stdout",
          "text": [
            "enter a number:5\n",
            "enter a number:6\n",
            "the maximum of 5 and 6 is: 6\n"
          ]
        }
      ]
    },
    {
      "cell_type": "markdown",
      "source": [
        "\n",
        "3.Write a function to return the maximum of two numbers."
      ],
      "metadata": {
        "id": "PEi3ocmVOaop"
      }
    },
    {
      "cell_type": "code",
      "source": [
        "def factorial_num(num):\n",
        "  if num==0 or num==1:\n",
        "    return 1\n",
        "  else:\n",
        "    return num*factorial_num(num-1)\n",
        "\n",
        "num=int(input(\"enter a number:\"))\n",
        "factorial=factorial_num(num)\n",
        "print(f\"the factorial of {num} is: {factorial}\")"
      ],
      "metadata": {
        "colab": {
          "base_uri": "https://localhost:8080/"
        },
        "id": "j-VM7P0SPqQx",
        "outputId": "f72b0fd8-ee06-48e6-a0ff-f174c735f632"
      },
      "execution_count": 48,
      "outputs": [
        {
          "output_type": "stream",
          "name": "stdout",
          "text": [
            "enter a number:7\n",
            "the factorial of 7 is: 5040\n"
          ]
        }
      ]
    },
    {
      "cell_type": "markdown",
      "source": [
        "\n",
        "4.Write a function to return the factorial of a number."
      ],
      "metadata": {
        "id": "ka0GXlxOPqcp"
      }
    },
    {
      "cell_type": "code",
      "source": [],
      "metadata": {
        "id": "uNP--5YnQzox"
      },
      "execution_count": 50,
      "outputs": []
    },
    {
      "cell_type": "markdown",
      "source": [],
      "metadata": {
        "id": "qpbqzHhsXTzY"
      }
    },
    {
      "cell_type": "code",
      "source": [
        "def reverse_string(s):\n",
        "    if len(s) <= 1:\n",
        "        return s\n",
        "    else:\n",
        "        return reverse_string(s[1:]) + s[0]\n",
        "input_str = input(\"Enter a string: \")\n",
        "result = reverse_string(input_str)\n",
        "print(f\"Reversed string: {result}\")"
      ],
      "metadata": {
        "colab": {
          "base_uri": "https://localhost:8080/"
        },
        "id": "hRIIXoRxWpx7",
        "outputId": "5b57d9ac-d191-415a-f5c3-4fc99621a679"
      },
      "execution_count": 51,
      "outputs": [
        {
          "output_type": "stream",
          "name": "stdout",
          "text": [
            "Enter a string: diya\n",
            "Reversed string: ayid\n"
          ]
        }
      ]
    },
    {
      "cell_type": "markdown",
      "source": [
        "\n",
        "5.Write a function to reverse a string without string indexing."
      ],
      "metadata": {
        "id": "32MoJBeJQzzA"
      }
    },
    {
      "cell_type": "code",
      "source": [
        "def check_palindrome(word):\n",
        "  if word==word[::-1]:\n",
        "    return True\n",
        "  else:\n",
        "    return False\n",
        "word=input(\"enter a word:\")\n",
        "if check_palindrome(word):\n",
        "  print(f\"{word} is a palindrome\")\n",
        "else:\n",
        "  print(f\"{word} is not a palindrome\")"
      ],
      "metadata": {
        "colab": {
          "base_uri": "https://localhost:8080/"
        },
        "id": "2Xu37wKcXSSh",
        "outputId": "c91359a5-4044-429f-8455-2642f3c0d6c5"
      },
      "execution_count": 52,
      "outputs": [
        {
          "output_type": "stream",
          "name": "stdout",
          "text": [
            "enter a word:malayalam\n",
            "malayalam is a palindrome\n"
          ]
        }
      ]
    },
    {
      "cell_type": "markdown",
      "source": [
        "\n",
        "6.Write a function to check if a string is a palindrome."
      ],
      "metadata": {
        "id": "oUQ3InMoXaS4"
      }
    },
    {
      "cell_type": "code",
      "source": [
        "p=['a','e','i','o','u']\n",
        "input_string = input(\"enter a string:\").lower()\n",
        "\n",
        "def check_vowel(input_string):\n",
        " vowel_count = 0\n",
        " for char in input_string:\n",
        "   if char in p:\n",
        "    vowel_count += 1\n",
        "    print(f\"found a vowel: {char}\")\n",
        " return vowel_count\n",
        "vowel_count = check_vowel(input_string)\n",
        "print(f\"Total number of vowels: {vowel_count}\")"
      ],
      "metadata": {
        "colab": {
          "base_uri": "https://localhost:8080/"
        },
        "id": "zU_ldcLcY_KZ",
        "outputId": "ea659218-bfb5-4c01-9464-726861f0f95a"
      },
      "execution_count": 53,
      "outputs": [
        {
          "output_type": "stream",
          "name": "stdout",
          "text": [
            "enter a string:diyasojan\n",
            "found a vowel: i\n",
            "found a vowel: a\n",
            "found a vowel: o\n",
            "found a vowel: a\n",
            "Total number of vowels: 4\n"
          ]
        }
      ]
    },
    {
      "cell_type": "markdown",
      "source": [
        "\n",
        "7.Write a function to count vowels in a string."
      ],
      "metadata": {
        "id": "zaptMQZwY_kZ"
      }
    },
    {
      "cell_type": "code",
      "source": [
        "def sum_list(list):\n",
        "  total=0\n",
        "  for num in list:\n",
        "    total+=num\n",
        "  return total\n",
        "list=[1,2,3,4,5]\n",
        "result=sum_list(list)\n",
        "print(f\"the sum of the list is: {result}\")"
      ],
      "metadata": {
        "colab": {
          "base_uri": "https://localhost:8080/"
        },
        "id": "cHYkc8UqZiFh",
        "outputId": "4c02027f-d88f-4c95-a111-48ff56f9946b"
      },
      "execution_count": 60,
      "outputs": [
        {
          "output_type": "stream",
          "name": "stdout",
          "text": [
            "the sum of the list is: 15\n"
          ]
        }
      ]
    },
    {
      "cell_type": "markdown",
      "source": [
        "\n",
        "8.Write a function that returns the sum of a list."
      ],
      "metadata": {
        "id": "6qJUHpQtZiQx"
      }
    },
    {
      "cell_type": "code",
      "source": [
        "def small_number(list):\n",
        " smallest=list[0]\n",
        " for num in list:\n",
        "  if num<smallest:\n",
        "    smallest=num\n",
        "  return smallest\n",
        "list=[1,2,3,4,5]\n",
        "result=small_number(list)\n",
        "print(f\"the smallest number is {result}\")"
      ],
      "metadata": {
        "colab": {
          "base_uri": "https://localhost:8080/"
        },
        "id": "hfcQlBtYbCUS",
        "outputId": "2fb59f00-4e7f-4c62-b231-7f858efcf9e7"
      },
      "execution_count": 62,
      "outputs": [
        {
          "output_type": "stream",
          "name": "stdout",
          "text": [
            "the smallest number is 1\n"
          ]
        }
      ]
    },
    {
      "cell_type": "code",
      "source": [
        "def small_number(list):\n",
        " smallest=list[0]\n",
        " for num in list:\n",
        "  if num<smallest:\n",
        "    smallest=num\n",
        " return smallest\n",
        "\n",
        "list=input(\"enter a list of numbers:\").split(',')\n",
        "list=[int(num) for num in list]\n",
        "result=small_number(list)\n",
        "print(f\"the smallest number is {result}\")"
      ],
      "metadata": {
        "colab": {
          "base_uri": "https://localhost:8080/"
        },
        "id": "1iHSaY56cS3S",
        "outputId": "cebfb414-9e72-42a9-9a36-b602f352d4c4"
      },
      "execution_count": 72,
      "outputs": [
        {
          "output_type": "stream",
          "name": "stdout",
          "text": [
            "enter a list of numbers:1,2,3,4\n",
            "the smallest number is 1\n"
          ]
        }
      ]
    },
    {
      "cell_type": "markdown",
      "source": [
        "\n",
        "9.Write a function to find the smallest number in a list."
      ],
      "metadata": {
        "id": "Hogo-Vl6bCbB"
      }
    },
    {
      "cell_type": "code",
      "source": [
        "def duplicate_list(list):\n",
        "  unique_list=[]\n",
        "  for num in list:\n",
        "    if num not in unique_list:\n",
        "      unique_list.append(num)\n",
        "  return unique_list\n",
        "list=[1,2,3,4,2,5,7,3]\n",
        "result=duplicate_list(list)\n",
        "print(f\"the duplicate list is:{result}\")\n",
        "\n",
        "\n"
      ],
      "metadata": {
        "colab": {
          "base_uri": "https://localhost:8080/"
        },
        "id": "witsClw9drgJ",
        "outputId": "2900d7c6-c2de-4167-f749-b89290f65398"
      },
      "execution_count": 83,
      "outputs": [
        {
          "output_type": "stream",
          "name": "stdout",
          "text": [
            "the duplicate list is:[1, 2, 3, 4, 5, 7]\n"
          ]
        }
      ]
    },
    {
      "cell_type": "markdown",
      "source": [
        "\n",
        "10.Write a function to remove duplicates from a list."
      ],
      "metadata": {
        "id": "MG2-KF0EdrmI"
      }
    },
    {
      "cell_type": "code",
      "source": [
        "def sort_list(list):\n",
        "  for num in list:\n",
        "    if num>i[0]:\n",
        "\n",
        "\n",
        "\n",
        ""
      ],
      "metadata": {
        "colab": {
          "base_uri": "https://localhost:8080/",
          "height": 106
        },
        "id": "vksMQgKzjDPx",
        "outputId": "4b74eb6b-4d5a-480a-83ee-91ac85ec72da"
      },
      "execution_count": 85,
      "outputs": [
        {
          "output_type": "error",
          "ename": "SyntaxError",
          "evalue": "incomplete input (ipython-input-85-2328903291.py, line 5)",
          "traceback": [
            "\u001b[0;36m  File \u001b[0;32m\"/tmp/ipython-input-85-2328903291.py\"\u001b[0;36m, line \u001b[0;32m5\u001b[0m\n\u001b[0;31m    \u001b[0m\n\u001b[0m    ^\u001b[0m\n\u001b[0;31mSyntaxError\u001b[0m\u001b[0;31m:\u001b[0m incomplete input\n"
          ]
        }
      ]
    },
    {
      "cell_type": "markdown",
      "source": [
        " 11.Write a function to sort a list in ascending order without using builtin sort function"
      ],
      "metadata": {
        "id": "K2Tw7W_OjDXy"
      }
    },
    {
      "cell_type": "code",
      "source": [
        "def length_of_string(string):\n",
        "  count=0\n",
        "  for char in string:\n",
        "    count+=1\n",
        "  return count\n",
        "string=input(\"enter a string:\")\n",
        "result=length_of_string(string)\n",
        "print(f\"the length of the string is: {result}\")"
      ],
      "metadata": {
        "colab": {
          "base_uri": "https://localhost:8080/"
        },
        "id": "4xRuQph6kq1C",
        "outputId": "c5e269ed-09c9-4f34-f3a0-fd74f863fff7"
      },
      "execution_count": 86,
      "outputs": [
        {
          "output_type": "stream",
          "name": "stdout",
          "text": [
            "enter a string:diyasojan\n",
            "the length of the string is: 9\n"
          ]
        }
      ]
    },
    {
      "cell_type": "markdown",
      "source": [
        "12.write a function that returns the length of a string"
      ],
      "metadata": {
        "id": "gIKzh-c_kq7p"
      }
    },
    {
      "cell_type": "code",
      "source": [
        "def words_count(sentence):\n",
        "  words=sentence.split()\n",
        "  count=len(words)\n",
        "  return count\n",
        "sentence=input(\"enter a sentence:\")\n",
        "result=words_count(sentence)\n",
        "print(f\"the number of words in the sentence is: {result}\")"
      ],
      "metadata": {
        "colab": {
          "base_uri": "https://localhost:8080/"
        },
        "id": "5dr2oMvmmWxa",
        "outputId": "75001da1-a503-4241-db7a-8f0eae23c114"
      },
      "execution_count": 87,
      "outputs": [
        {
          "output_type": "stream",
          "name": "stdout",
          "text": [
            "enter a sentence:python is a programming languange\n",
            "the number of words in the sentence is: 5\n"
          ]
        }
      ]
    },
    {
      "cell_type": "markdown",
      "source": [
        "13.Write a function to count words in a sentence."
      ],
      "metadata": {
        "id": "OIYQNtycmW5Y"
      }
    },
    {
      "cell_type": "code",
      "source": [
        "def celcius_to_fahrenheit(celcius):\n",
        "  fahrenheit=(celcius*9/5)+32\n",
        "  return fahrenheit\n",
        "celcius=float(input(\"enter a temperature in celcius:\"))\n",
        "result=celcius_to_fahrenheit(celcius)\n",
        "print(f\"the temperature in fahrenheit is:{result}\")"
      ],
      "metadata": {
        "colab": {
          "base_uri": "https://localhost:8080/"
        },
        "id": "BQFbbvGEnY3q",
        "outputId": "5da1d28e-56da-412e-f608-672a8b9aa71f"
      },
      "execution_count": 88,
      "outputs": [
        {
          "output_type": "stream",
          "name": "stdout",
          "text": [
            "enter a temperature in celcius:24\n",
            "the temperature in fahrenheit is:75.2\n"
          ]
        }
      ]
    },
    {
      "cell_type": "markdown",
      "source": [
        "14.Write a function to convert Celsius to Fahrenheit."
      ],
      "metadata": {
        "id": "CX-mt_rhneAg"
      }
    },
    {
      "cell_type": "code",
      "source": [
        "def palindrome_num_check(number):\n",
        "  temp=number\n",
        "  reverse=0\n",
        "  while temp>0:\n",
        "   digit=temp%10\n",
        "   reverse=reverse*10+digit\n",
        "   temp//=10\n",
        "  if number==reverse:\n",
        "    return True\n",
        "  else:\n",
        "    return False\n",
        "number=int(input(\"enter a number:\"))\n",
        "result=palindrome_num_check(number)\n"
      ],
      "metadata": {
        "colab": {
          "base_uri": "https://localhost:8080/"
        },
        "id": "tZHBEZ93oVkD",
        "outputId": "4e39e744-8848-470f-8669-d1d839ee3174"
      },
      "execution_count": 94,
      "outputs": [
        {
          "name": "stdout",
          "output_type": "stream",
          "text": [
            "enter a number:123456\n"
          ]
        }
      ]
    },
    {
      "cell_type": "code",
      "source": [
        "def palindrome_num_check(number):\n",
        "    if number < 0:\n",
        "        print(f\"{number} is not a palindrome (negative numbers are not considered)\")\n",
        "        return False\n",
        "\n",
        "    temp = number\n",
        "    reverse = 0\n",
        "    while temp > 0:\n",
        "        digit = temp % 10\n",
        "        reverse = reverse * 10 + digit\n",
        "        temp //= 10\n",
        "    return number == reverse\n",
        "number = int(input(\"Enter a number: \"))\n",
        "result = palindrome_num_check(number)\n",
        "if result:\n",
        "         print(f\"{number} is a palindrome\")\n",
        "else:\n",
        "        print(f\"{number} is not a palindrome\")"
      ],
      "metadata": {
        "colab": {
          "base_uri": "https://localhost:8080/"
        },
        "id": "jIRokflStYKb",
        "outputId": "0b87882b-73b5-4237-b9bc-508c88c3aa7a"
      },
      "execution_count": 103,
      "outputs": [
        {
          "output_type": "stream",
          "name": "stdout",
          "text": [
            "Enter a number: 1234456\n",
            "1234456 is not a palindrome\n"
          ]
        }
      ]
    },
    {
      "cell_type": "markdown",
      "source": [
        "15.Write a function to check if a number is palindrome."
      ],
      "metadata": {
        "id": "WNOLGNNIoVuo"
      }
    },
    {
      "cell_type": "code",
      "source": [
        "def even_numbers(list):\n",
        " even_list=[]\n",
        " for num in list:\n",
        "  if num%2==0:\n",
        "    even_list.append(num)\n",
        " return even_list\n",
        "list=[1,2,3,4,5,6,7,8,9,10]\n",
        "result=even_numbers(list)\n",
        "print(f\"the even numbers in the list are: {result}\")"
      ],
      "metadata": {
        "colab": {
          "base_uri": "https://localhost:8080/"
        },
        "id": "UsRchwE1sJ_6",
        "outputId": "da255064-542d-4c48-abf7-cd7cb992ed7f"
      },
      "execution_count": 104,
      "outputs": [
        {
          "output_type": "stream",
          "name": "stdout",
          "text": [
            "the even numbers in the list are: [2, 4, 6, 8, 10]\n"
          ]
        }
      ]
    },
    {
      "cell_type": "markdown",
      "source": [
        "16.Write a function to return all even numbers in a list."
      ],
      "metadata": {
        "id": "vKLj-5pYsKHg"
      }
    },
    {
      "cell_type": "code",
      "source": [
        "def fibonacci_number(numbers)\n",
        " fibinoccai series=[]\n",
        " for num in numbers:\n",
        ""
      ],
      "metadata": {
        "id": "IjS5jRDGuLTC"
      },
      "execution_count": null,
      "outputs": []
    },
    {
      "cell_type": "markdown",
      "source": [
        "17.Write a function to return the nth Fibonacci number."
      ],
      "metadata": {
        "id": "Sje0Ee7DuLaQ"
      }
    },
    {
      "cell_type": "code",
      "source": [
        "def avg_list(list):\n",
        "  total=sum(list)\n",
        "  average=total/len(list)\n",
        "  return average\n",
        "list=[1,2,3,4,5]\n",
        "result=avg_list(list)\n",
        "print(f\"the average of a list is:{result}\")"
      ],
      "metadata": {
        "colab": {
          "base_uri": "https://localhost:8080/"
        },
        "id": "LmzItn9-vSmK",
        "outputId": "a4a7926a-27fa-4ded-e8dd-14e767151da1"
      },
      "execution_count": 111,
      "outputs": [
        {
          "output_type": "stream",
          "name": "stdout",
          "text": [
            "the average of a list is:3.0\n"
          ]
        }
      ]
    },
    {
      "cell_type": "markdown",
      "source": [
        "18.Write a function to calculate the average of a list."
      ],
      "metadata": {
        "id": "PtVWzeEHvSs5"
      }
    },
    {
      "cell_type": "code",
      "source": [
        "def dict_character_counts(input_string):\n",
        "    character_counts = {}\n",
        "    for char in input_string:\n",
        "        if char in character_counts:\n",
        "            character_counts[char] += 1\n",
        "        else:\n",
        "            character_counts[char] = 1\n",
        "    return character_counts\n",
        "    input_string = input(\"Enter a string: \")\n",
        "result = dict_character_counts(input_string)\n",
        "print(f\"Character counts: {result}\")"
      ],
      "metadata": {
        "colab": {
          "base_uri": "https://localhost:8080/"
        },
        "id": "582_wdLZv54B",
        "outputId": "db237cfb-4fbb-4941-9176-463cabd8b497"
      },
      "execution_count": 114,
      "outputs": [
        {
          "output_type": "stream",
          "name": "stdout",
          "text": [
            "Character counts: {'d': 1, 'i': 1, 'y': 1, 'a': 1}\n"
          ]
        }
      ]
    },
    {
      "cell_type": "markdown",
      "source": [
        "19.Write a function that returns a dictionary of character counts."
      ],
      "metadata": {
        "id": "OTyY1WnGv5_h"
      }
    },
    {
      "cell_type": "code",
      "source": [
        "def all_unique(elements):\n",
        "    list=[]\n",
        "    for item in elements:\n",
        "        if item in list:\n",
        "            return False\n",
        "        list.append(item)\n",
        "    return True\n",
        "\n",
        "\n",
        "numbers = [1, 2, 3, 4, 5]\n",
        "print(f\"List: {numbers}\")\n",
        "print(f\"All elements unique {all_unique(numbers)}\")"
      ],
      "metadata": {
        "colab": {
          "base_uri": "https://localhost:8080/"
        },
        "id": "iNzqra46weYw",
        "outputId": "878c6f23-b0a2-4312-eb35-db96f1df43d3"
      },
      "execution_count": 119,
      "outputs": [
        {
          "output_type": "stream",
          "name": "stdout",
          "text": [
            "List: [1, 2, 3, 4, 5]\n",
            "All elements unique True\n"
          ]
        }
      ]
    },
    {
      "cell_type": "markdown",
      "source": [
        "20.Write a function that returns True if all list elements are unique."
      ],
      "metadata": {
        "id": "KjJnZY6lwefI"
      }
    }
  ]
}